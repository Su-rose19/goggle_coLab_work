{
  "nbformat": 4,
  "nbformat_minor": 0,
  "metadata": {
    "colab": {
      "name": "Handling_Files.ipynb",
      "provenance": [],
      "collapsed_sections": [],
      "authorship_tag": "ABX9TyNCLsWIklL2gm2ziRPK5BoZ",
      "include_colab_link": true
    },
    "kernelspec": {
      "name": "python3",
      "display_name": "Python 3"
    },
    "language_info": {
      "name": "python"
    }
  },
  "cells": [
    {
      "cell_type": "markdown",
      "metadata": {
        "id": "view-in-github",
        "colab_type": "text"
      },
      "source": [
        "<a href=\"https://colab.research.google.com/github/Su-rose19/goggle_coLab_work/blob/master/Handling_Files.ipynb\" target=\"_parent\"><img src=\"https://colab.research.google.com/assets/colab-badge.svg\" alt=\"Open In Colab\"/></a>"
      ]
    },
    {
      "cell_type": "code",
      "metadata": {
        "colab": {
          "base_uri": "https://localhost:8080/"
        },
        "id": "G2x_LWJj9at0",
        "outputId": "e3037a95-6210-46ab-87a6-e8befa55e21b"
      },
      "source": [
        "#!/usr/bin/env python3\n",
        "import csv\n",
        "\n",
        "def read_employees(csv_file_location):\n",
        "    csv.register_dialect('empDialect', skipinitialspace=True, strict=True)\n",
        "    employee_file = csv.DictReader(open(csv_file_location), dialect = 'empDialect')\n",
        "    employee_list = []\n",
        "    for data in employee_file:\n",
        "      employee_list.append(data)\n",
        "    return employee_list\n",
        "\n",
        "\n",
        "employee_list = read_employees('/content/employees.csv')\n",
        "print(employee_list)\n"
      ],
      "execution_count": 3,
      "outputs": [
        {
          "output_type": "stream",
          "text": [
            "[OrderedDict([('Full Name', 'Audrey Miller'), ('Username', 'audrey'), ('Department', 'Development')]), OrderedDict([('Full Name', 'Arden Garcia'), ('Username', 'ardeng'), ('Department', 'Sales')]), OrderedDict([('Full Name', 'Bailey Thomas'), ('Username', 'baileyt'), ('Department', 'Human Resources')]), OrderedDict([('Full Name', 'Blake Sousa'), ('Username', 'sousa'), ('Department', 'IT infrastructure')]), OrderedDict([('Full Name', 'Cameron Nguyen'), ('Username', 'nguyen'), ('Department', 'Marketing')]), OrderedDict([('Full Name', 'Charlie Grey'), ('Username', 'greyc'), ('Department', 'Development')]), OrderedDict([('Full Name', 'Chris Black'), ('Username', 'chrisb'), ('Department', 'User Experience Research')]), OrderedDict([('Full Name', 'Courtney Silva'), ('Username', 'silva'), ('Department', 'IT infrastructure')]), OrderedDict([('Full Name', 'Darcy Johnsonn'), ('Username', 'darcy'), ('Department', 'IT infrastructure')]), OrderedDict([('Full Name', 'Elliot Lamb'), ('Username', 'elliotl'), ('Department', 'Development')]), OrderedDict([('Full Name', 'Emery Halls'), ('Username', 'halls'), ('Department', 'Sales')]), OrderedDict([('Full Name', 'Flynn McMillan'), ('Username', 'flynn'), ('Department', 'Marketing')]), OrderedDict([('Full Name', 'Harley Klose'), ('Username', 'harley'), ('Department', 'Human Resources')]), OrderedDict([('Full Name', 'Jean May Coy'), ('Username', 'jeanm'), ('Department', 'Vendor operations')]), OrderedDict([('Full Name', 'Kay Stevens'), ('Username', 'kstev'), ('Department', 'Sales')]), OrderedDict([('Full Name', 'Lio Nelson'), ('Username', 'lion'), ('Department', 'User Experience Research')]), OrderedDict([('Full Name', 'Logan Tillas'), ('Username', 'tillas'), ('Department', 'Vendor operations')]), OrderedDict([('Full Name', 'Micah Lopes'), ('Username', 'micah'), ('Department', 'Development')]), OrderedDict([('Full Name', 'Sol Mansi'), ('Username', 'solm'), ('Department', 'IT infrastructure')])]\n"
          ],
          "name": "stdout"
        }
      ]
    },
    {
      "cell_type": "code",
      "metadata": {
        "colab": {
          "base_uri": "https://localhost:8080/"
        },
        "id": "ieDw8Dp3_Z_4",
        "outputId": "e01d5b1f-0d39-4181-eb61-d52f4ca1f844"
      },
      "source": [
        "def process_data(employee_list):\n",
        "  department_list = []\n",
        "  for employee_data in employee_list:\n",
        "    department_list.append(employee_data['Department'])\n",
        "  department_data = {}\n",
        "  for department_name in set(department_list):\n",
        "    department_data[department_name] = department_list.count(department_name)\n",
        "  return department_data\n",
        "\n",
        "dictionary = process_data(employee_list)\n",
        "print(dictionary)"
      ],
      "execution_count": 4,
      "outputs": [
        {
          "output_type": "stream",
          "text": [
            "{'User Experience Research': 2, 'IT infrastructure': 4, 'Development': 4, 'Human Resources': 2, 'Vendor operations': 2, 'Sales': 3, 'Marketing': 2}\n"
          ],
          "name": "stdout"
        }
      ]
    },
    {
      "cell_type": "code",
      "metadata": {
        "colab": {
          "base_uri": "https://localhost:8080/"
        },
        "id": "CDDZmRbY_vHu",
        "outputId": "ad91b330-4643-4cb5-886f-15e6d16b75d0"
      },
      "source": [
        "def write_report(dictionary, report_file):\n",
        "    with open(report_file, \"w+\") as f:\n",
        "      for k in sorted(dictionary):\n",
        "        f.write(str(k)+':'+str(dictionary[k])+'\\n')\n",
        "      f.close()\n",
        "\n",
        "write_report(dictionary, '/content/report.txt')\n",
        "\n",
        "%cat report.txt"
      ],
      "execution_count": 6,
      "outputs": [
        {
          "output_type": "stream",
          "text": [
            "Development:4\n",
            "Human Resources:2\n",
            "IT infrastructure:4\n",
            "Marketing:2\n",
            "Sales:3\n",
            "User Experience Research:2\n",
            "Vendor operations:2\n"
          ],
          "name": "stdout"
        }
      ]
    }
  ]
}