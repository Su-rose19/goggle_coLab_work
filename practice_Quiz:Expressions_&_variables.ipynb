{
  "nbformat": 4,
  "nbformat_minor": 0,
  "metadata": {
    "colab": {
      "name": "Expressions_&_variables.ipynb",
      "provenance": [],
      "collapsed_sections": [],
      "authorship_tag": "ABX9TyOhnTI8z6d+7c7pej9A21E2",
      "include_colab_link": true
    },
    "kernelspec": {
      "name": "python3",
      "display_name": "Python 3"
    },
    "language_info": {
      "name": "python"
    }
  },
  "cells": [
    {
      "cell_type": "markdown",
      "metadata": {
        "id": "view-in-github",
        "colab_type": "text"
      },
      "source": [
        "<a href=\"https://colab.research.google.com/github/Su-rose19/goggle_coLab_work/blob/master/Expressions_%26_variables.ipynb\" target=\"_parent\"><img src=\"https://colab.research.google.com/assets/colab-badge.svg\" alt=\"Open In Colab\"/></a>"
      ]
    },
    {
      "cell_type": "markdown",
      "metadata": {
        "id": "4ULCdK-CBEgW"
      },
      "source": [
        "Question 1\n",
        "In this scenario, two friends are eating dinner at a restaurant. The bill comes in the amount of 47.28 dollars. The friends decide to split the bill evenly between them, after adding 15% tip for the service. Calculate the tip, the total amount to pay, and each friend's share, then output a message saying \"Each person needs to pay: \" followed by the resulting number."
      ]
    },
    {
      "cell_type": "code",
      "metadata": {
        "colab": {
          "base_uri": "https://localhost:8080/"
        },
        "id": "mRbPEsZFAhTy",
        "outputId": "b889e571-e7ea-4ad1-e1a4-6aa9a54f779a"
      },
      "source": [
        "bill = 47.28\n",
        "tip = bill * 0.15\n",
        "total = bill + tip\n",
        "share = total/2 \n",
        "print(\"Each person needs to pay: \"+str(share))"
      ],
      "execution_count": null,
      "outputs": [
        {
          "output_type": "stream",
          "text": [
            "Each person needs to pay: 27.186\n"
          ],
          "name": "stdout"
        }
      ]
    },
    {
      "cell_type": "markdown",
      "metadata": {
        "id": "Pg_uqi7_BC9P"
      },
      "source": [
        "Question 2\n",
        "This code is supposed to take two numbers, divide one by another so that the result is equal to 1, and display the result on the screen. Unfortunately, there is an error in the code. Find the error and fix it, so that the output is correct.\n",
        "\n"
      ]
    },
    {
      "cell_type": "code",
      "metadata": {
        "colab": {
          "base_uri": "https://localhost:8080/"
        },
        "id": "aREQBmNzCEDj",
        "outputId": "786c6300-fe6d-4c90-b4e3-c07e982c0cd0"
      },
      "source": [
        "numerator = 10\n",
        "denominator = 10\n",
        "result = numerator / denominator\n",
        "print(int(result))"
      ],
      "execution_count": null,
      "outputs": [
        {
          "output_type": "stream",
          "text": [
            "1\n"
          ],
          "name": "stdout"
        }
      ]
    },
    {
      "cell_type": "markdown",
      "metadata": {
        "id": "lgQZ-cMhCNue"
      },
      "source": [
        "Question 3\n",
        "Combine the variables to display the sentence \"How do you like Python so far?\" "
      ]
    },
    {
      "cell_type": "code",
      "metadata": {
        "colab": {
          "base_uri": "https://localhost:8080/"
        },
        "id": "4RCgbV5VCV7V",
        "outputId": "9cfd054f-1fdd-475e-f009-1e8c25a803e7"
      },
      "source": [
        "word1 = \"How\"\n",
        "word2 = \"do\"\n",
        "word3 = \"you\"\n",
        "word4 = \"like\"\n",
        "word5 = \"Python\"\n",
        "word6 = \"so\"\n",
        "word7 = \"far?\"\n",
        "\n",
        "print(word1 +\" \"+ word2 +\" \"+ word3 +\" \"+ word4 +\" \"+ word5 +\" \"+ word6+\" \"+word7)"
      ],
      "execution_count": null,
      "outputs": [
        {
          "output_type": "stream",
          "text": [
            "How do you like Python so far?\n"
          ],
          "name": "stdout"
        }
      ]
    },
    {
      "cell_type": "markdown",
      "metadata": {
        "id": "pWCosni7CbEf"
      },
      "source": [
        "Question 4\n",
        "This code is supposed to display \"2 + 2 = 4\" on the screen, but there is an error. Find the error in the code and fix it, so that the output is correct."
      ]
    },
    {
      "cell_type": "code",
      "metadata": {
        "colab": {
          "base_uri": "https://localhost:8080/"
        },
        "id": "0XozwFHDCjQw",
        "outputId": "7651aba7-5829-4978-93bd-8525aed62c5d"
      },
      "source": [
        "print(\"2 + 2 = \" + str(2 + 2))"
      ],
      "execution_count": null,
      "outputs": [
        {
          "output_type": "stream",
          "text": [
            "2 + 2 = 4\n"
          ],
          "name": "stdout"
        }
      ]
    }
  ]
}
