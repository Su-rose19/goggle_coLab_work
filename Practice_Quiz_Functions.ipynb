{
  "nbformat": 4,
  "nbformat_minor": 0,
  "metadata": {
    "colab": {
      "name": "Practice_Quiz_Functions.ipynb",
      "provenance": [],
      "collapsed_sections": [],
      "authorship_tag": "ABX9TyNzFP2oz3dAvOMgAVUoqXnP",
      "include_colab_link": true
    },
    "kernelspec": {
      "name": "python3",
      "display_name": "Python 3"
    },
    "language_info": {
      "name": "python"
    }
  },
  "cells": [
    {
      "cell_type": "markdown",
      "metadata": {
        "id": "view-in-github",
        "colab_type": "text"
      },
      "source": [
        "<a href=\"https://colab.research.google.com/github/Su-rose19/goggle_coLab_work/blob/master/Practice_Quiz_Functions.ipynb\" target=\"_parent\"><img src=\"https://colab.research.google.com/assets/colab-badge.svg\" alt=\"Open In Colab\"/></a>"
      ]
    },
    {
      "cell_type": "markdown",
      "metadata": {
        "id": "zHwj8Gj4EPj0"
      },
      "source": [
        "Question 1\n",
        "This function converts miles to kilometers (km).\n",
        "\n",
        "1) Complete the function to return the result of the conversion,\n",
        "2) Call the function to convert the trip distance from miles to kilometers,\n",
        "3) Fill in the blank to print the result of the conversion,\n",
        "4) Calculate the round-trip in kilometers by doubling the result, and fill in the blank to print the result"
      ]
    },
    {
      "cell_type": "code",
      "metadata": {
        "colab": {
          "base_uri": "https://localhost:8080/"
        },
        "id": "WLA8j3rsENp_",
        "outputId": "388c95fc-488f-4ae6-dd5c-dc246eb2d12d"
      },
      "source": [
        "# 1) Complete the function to return the result of the conversion\n",
        "def convert_distance(miles):\n",
        "\tkm = miles * 1.6  # approximately 1.6 km in 1 mile\n",
        "\treturn km\n",
        "\n",
        "my_trip_miles = 55\n",
        "\n",
        "# 2) Convert my_trip_miles to kilometers by calling the function above\n",
        "my_trip_km = convert_distance(my_trip_miles)\n",
        "\n",
        "# 3) Fill in the blank to print the result of the conversion\n",
        "print(\"The distance in kilometers is \" + str(my_trip_km))\n",
        "\n",
        "# 4) Calculate the round-trip in kilometers by doubling the result,\n",
        "#    and fill in the blank to print the result\n",
        "print(\"The round-trip in kilometers is \" + str(my_trip_km*2))"
      ],
      "execution_count": 1,
      "outputs": [
        {
          "output_type": "stream",
          "text": [
            "The distance in kilometers is 88.0\n",
            "The round-trip in kilometers is 176.0\n"
          ],
          "name": "stdout"
        }
      ]
    },
    {
      "cell_type": "markdown",
      "metadata": {
        "id": "wlZZJl-4Elxb"
      },
      "source": [
        "Question 2\n",
        "This function compares two numbers and returns them in increasing order.\n",
        "\n",
        "Fill in the blanks, so the print statement displays the result of the function call in order.\n",
        "Hint: if a function returns multiple values, don't forget to store these values in multiple variables"
      ]
    },
    {
      "cell_type": "code",
      "metadata": {
        "colab": {
          "base_uri": "https://localhost:8080/"
        },
        "id": "TFG7OOroEvz9",
        "outputId": "87a749a4-2458-4288-9742-92feeda1fd38"
      },
      "source": [
        "# This function compares two numbers and returns them\n",
        "# in increasing order.\n",
        "def order_numbers(number1, number2):\n",
        "\tif number2 > number1:\n",
        "\t\treturn number1, number2\n",
        "\telse:\n",
        "\t\treturn number2, number1\n",
        "\n",
        "# 1) Fill in the blanks so the print statement displays the result\n",
        "#    of the function call\n",
        "smaller, bigger = order_numbers(100, 99)\n",
        "print(smaller, bigger)"
      ],
      "execution_count": 2,
      "outputs": [
        {
          "output_type": "stream",
          "text": [
            "99 100\n"
          ],
          "name": "stdout"
        }
      ]
    },
    {
      "cell_type": "markdown",
      "metadata": {
        "id": "oeBsDuD_EzkY"
      },
      "source": [
        "Question 4\n",
        "Let's revisit our lucky_number function. We want to change it, so that instead of printing the message, it returns the message. This way, the calling line can print the message, or do something else with it if needed. Fill in the blanks to complete the code to make it work."
      ]
    },
    {
      "cell_type": "code",
      "metadata": {
        "colab": {
          "base_uri": "https://localhost:8080/"
        },
        "id": "Id4sVnElE6lQ",
        "outputId": "be69b527-ae3f-4544-d851-39dadd9e075b"
      },
      "source": [
        "def lucky_number(name):\n",
        "  number = len(name) * 9\n",
        "  message = \"Hello \" + name + \". Your lucky number is \" + str(number)\n",
        "  return message\n",
        "\t    \n",
        "print(lucky_number(\"Kay\"))\n",
        "print(lucky_number(\"Cameron\"))"
      ],
      "execution_count": 3,
      "outputs": [
        {
          "output_type": "stream",
          "text": [
            "Hello Kay. Your lucky number is 27\n",
            "Hello Cameron. Your lucky number is 63\n"
          ],
          "name": "stdout"
        }
      ]
    }
  ]
}